{
 "cells": [
  {
   "cell_type": "code",
   "execution_count": 3,
   "id": "f8857437-393e-4ba7-97c1-85a663ade75b",
   "metadata": {},
   "outputs": [],
   "source": [
    "from absenteeism_module import *\n",
    "model = AbsenteeismModule(\"model\", \"scaler\")\n",
    "model.load_and_clean_data(\"Absenteeism_new_data.csv\")\n",
    "model.predict_outputs().to_csv('Absenteeism_predictions.csv', index = False)"
   ]
  }
 ],
 "metadata": {
  "kernelspec": {
   "display_name": "Python [conda env:base] *",
   "language": "python",
   "name": "conda-base-py"
  },
  "language_info": {
   "codemirror_mode": {
    "name": "ipython",
    "version": 3
   },
   "file_extension": ".py",
   "mimetype": "text/x-python",
   "name": "python",
   "nbconvert_exporter": "python",
   "pygments_lexer": "ipython3",
   "version": "3.12.7"
  }
 },
 "nbformat": 4,
 "nbformat_minor": 5
}
